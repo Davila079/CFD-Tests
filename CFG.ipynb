{
  "nbformat": 4,
  "nbformat_minor": 0,
  "metadata": {
    "colab": {
      "provenance": []
    },
    "kernelspec": {
      "name": "python3",
      "display_name": "Python 3"
    },
    "language_info": {
      "name": "python"
    }
  },
  "cells": [
    {
      "cell_type": "markdown",
      "source": [
        "#CFG's"
      ],
      "metadata": {
        "id": "OMyj91yzZfS6"
      }
    },
    {
      "cell_type": "code",
      "source": [
        "def is_palindrome(s):\n",
        "    return s == s[::-1]\n",
        "\n",
        "def has_equal_a_b(s):\n",
        "    count_a = s.count('a')\n",
        "    count_b = s.count('b')\n",
        "    return count_a == count_b\n",
        "\n",
        "def is_balanced_parentheses(s):\n",
        "    balance = 0\n",
        "    for char in s:\n",
        "        if char == '(':\n",
        "            balance += 1\n",
        "        elif char == ')':\n",
        "            balance -= 1\n",
        "        if balance < 0:\n",
        "            return False\n",
        "    return balance == 0\n",
        "\n",
        "def is_a_n_b_n_c_n(s):\n",
        "    n = len(s) // 3\n",
        "    return s[:n] == 'a' * n and s[n:2*n] == 'b' * n and s[2*n:] == 'c' * n"
      ],
      "metadata": {
        "colab": {
          "base_uri": "https://localhost:8080/"
        },
        "id": "QdCOft-dRaHE",
        "outputId": "d677c1b2-d83c-41f3-cae6-97fdb1dcf1a3"
      },
      "execution_count": null,
      "outputs": [
        {
          "output_type": "stream",
          "name": "stdout",
          "text": [
            "Gemini AI given examples\n",
            "Testing AI given grammar: g_palindromes\n",
            "  String 'racecar': ACCEPTED\n",
            "  String 'madam': ACCEPTED\n",
            "  String 'level': ACCEPTED\n",
            "  String 'rotor': ACCEPTED\n",
            "  String 'stats': ACCEPTED\n",
            "  String 'hello': REJECTED\n",
            "  String 'world': REJECTED\n",
            "\n",
            "Testing AI given grammar: g_equal_a_b\n",
            "  String 'aaabbb': ACCEPTED\n",
            "  String 'bababa': ACCEPTED\n",
            "  String 'abbb': REJECTED\n",
            "  String 'baaa': REJECTED\n",
            "\n",
            "Testing AI given grammar: g_balanced_parentheses\n",
            "  String '((()))': ACCEPTED\n",
            "  String '(()())': ACCEPTED\n",
            "  String '()(())': ACCEPTED\n",
            "  String ')(': REJECTED\n",
            "  String '(()))': REJECTED\n",
            "  String '(((': REJECTED\n",
            "\n",
            "Testing AI given grammar: g_a^n_b^n_c^n\n",
            "  String 'aaaabbbbcccc': ACCEPTED\n",
            "  String 'aaaaaabbbbbbcccccc': ACCEPTED\n",
            "  String 'aaabccc': REJECTED\n",
            "  String 'abbcca': REJECTED\n",
            "\n"
          ]
        }
      ]
    },
    {
      "cell_type": "markdown",
      "source": [
        "##Productions"
      ],
      "metadata": {
        "id": "e56XPrzRZ_RO"
      }
    },
    {
      "cell_type": "code",
      "source": [
        "# Test examples\n",
        "examples = {\n",
        "    \"palindromes\": [\"\", \"a\", \"aa\", \"aba\", \"abba\", \"abc\"],\n",
        "    \"equal_a_b\": [\"\", \"ab\", \"ba\", \"aabb\", \"abab\", \"aaa\"],\n",
        "    \"balanced_parentheses\": [\"\", \"()\", \"(())\", \"()()\", \"(()\", \")(\"],\n",
        "    \"a^n_b^n_c^n\": [\"\", \"abc\", \"aabbcc\", \"aaabbbccc\", \"aabbc\"],\n",
        "}\n",
        "# Map functions of verification\n",
        "validators = {\n",
        "    \"palindromes\": is_palindrome,\n",
        "    \"equal_a_b\": has_equal_a_b,\n",
        "    \"balanced_parentheses\": is_balanced_parentheses,\n",
        "    \"a^n_b^n_c^n\": is_a_n_b_n_c_n,\n",
        "}\n",
        "\n",
        "# Verify Strings examples\n",
        "for grammar_name, test_strings in examples.items():\n",
        "    print(f\"Testing grammar: {grammar_name}\")\n",
        "    for string in test_strings:\n",
        "        result = validators[grammar_name](string)\n",
        "        status = \"ACCEPTED\" if result else \"REJECTED\"\n",
        "        print(f\"  String '{string}': {status}\")\n",
        "    print()"
      ],
      "metadata": {
        "colab": {
          "base_uri": "https://localhost:8080/"
        },
        "id": "TJ4dN0d-ZZBp",
        "outputId": "78d77bd3-d080-427f-c382-4756d2e800ee"
      },
      "execution_count": null,
      "outputs": [
        {
          "output_type": "stream",
          "name": "stdout",
          "text": [
            "Testing grammar: palindromes\n",
            "  String '': ACCEPTED\n",
            "  String 'a': ACCEPTED\n",
            "  String 'aa': ACCEPTED\n",
            "  String 'aba': ACCEPTED\n",
            "  String 'abba': ACCEPTED\n",
            "  String 'abc': REJECTED\n",
            "\n",
            "Testing grammar: equal_a_b\n",
            "  String '': ACCEPTED\n",
            "  String 'ab': ACCEPTED\n",
            "  String 'ba': ACCEPTED\n",
            "  String 'aabb': ACCEPTED\n",
            "  String 'abab': ACCEPTED\n",
            "  String 'aaa': REJECTED\n",
            "\n",
            "Testing grammar: balanced_parentheses\n",
            "  String '': ACCEPTED\n",
            "  String '()': ACCEPTED\n",
            "  String '(())': ACCEPTED\n",
            "  String '()()': ACCEPTED\n",
            "  String '(()': REJECTED\n",
            "  String ')(': REJECTED\n",
            "\n",
            "Testing grammar: a^n_b^n_c^n\n",
            "  String '': ACCEPTED\n",
            "  String 'abc': ACCEPTED\n",
            "  String 'aabbcc': ACCEPTED\n",
            "  String 'aaabbbccc': ACCEPTED\n",
            "  String 'aabbc': REJECTED\n",
            "\n"
          ]
        }
      ]
    },
    {
      "cell_type": "markdown",
      "source": [
        "##Generative Gemini Productions"
      ],
      "metadata": {
        "id": "7OsOCQ63aE-m"
      }
    },
    {
      "cell_type": "code",
      "source": [
        "# Test Gemini AI examples\n",
        "examples = {\n",
        "    \"palindromes\": [\n",
        "        \"racecar\",  # Valid palindrome\n",
        "        \"level\",    # Valid palindrome\n",
        "        \"abccba\",   # Valid palindrome\n",
        "        \"xyz\",      # Invalid palindrome, not symmetric\n",
        "        \"12321\",    # Valid palindrome with numbers\n",
        "        \"a\",        # Valid palindrome, single character\n",
        "        \"abba\",     # Valid palindrome with repeated characters\n",
        "    ],\n",
        "    \"equal_a_b\": [\n",
        "        \"aabb\",    # Valid, equal number of 'a' and 'b'\n",
        "        \"abab\",    # Valid, equal number of 'a' and 'b'\n",
        "        \"baab\",    # Valid, equal number of 'a' and 'b'\n",
        "        \"aaaabbbb\",# Valid, equal number of 'a' and 'b'\n",
        "        \"ab\",       # Invalid, unequal number of 'a' and 'b'\n",
        "        \"aab\",      # Invalid, unequal number of 'a' and 'b'\n",
        "        \"\",         # Valid, empty string has 0 'a' and 0 'b'\n",
        "    ],\n",
        "    \"balanced_parentheses\": [\n",
        "        \"()\",       # Valid, simple pair\n",
        "        \"()()\",     # Valid, nested pairs\n",
        "        \"(()())\",   # Valid, nested pairs\n",
        "        \"(())()\",   # Valid, multiple pairs\n",
        "        \"())\",      # Invalid, unbalanced\n",
        "        \"(()\",      # Invalid, unbalanced\n",
        "        \"(())(\",     # Invalid, unbalanced\n",
        "        \"\",         # Valid, empty string\n",
        "    ],\n",
        "    \"a^n_b^n_c^n\": [\n",
        "        \"abc\",      # Valid, n = 1\n",
        "        \"aabbcc\",   # Valid, n = 2\n",
        "        \"aaabbbccc\",# Valid, n = 3\n",
        "        \"abbc\",     # Invalid, unequal number of 'a', 'b', and 'c'\n",
        "        \"abcc\",     # Invalid, unequal number of 'a', 'b', and 'c'\n",
        "        \"aabbc\",    # Invalid, unequal number of 'a', 'b', and 'c'\n",
        "        \"\",         # Invalid, empty string\n",
        "    ],\n",
        "}\n",
        "validators = {\n",
        "    \"palindromes\": is_palindrome,\n",
        "    \"equal_a_b\": has_equal_a_b,\n",
        "    \"balanced_parentheses\": is_balanced_parentheses,\n",
        "    \"a^n_b^n_c^n\": is_a_n_b_n_c_n,\n",
        "}\n",
        "\n",
        "# Verify AI given Examples\n",
        "print(\"Gemini AI given examples\")\n",
        "for grammar_name, test_strings in examples.items():\n",
        "    print(f\"Testing AI given grammar: {grammar_name}\")\n",
        "    for string in test_strings:\n",
        "        result = validators[grammar_name](string)\n",
        "        status = \"ACCEPTED\" if result else \"REJECTED\"\n",
        "        print(f\"  String '{string}': {status}\")\n",
        "    print()"
      ],
      "metadata": {
        "colab": {
          "base_uri": "https://localhost:8080/"
        },
        "id": "G8m3IVOPZcDr",
        "outputId": "eacfc2f3-9260-4f1a-8f8e-33bd00e1e89b"
      },
      "execution_count": null,
      "outputs": [
        {
          "output_type": "stream",
          "name": "stdout",
          "text": [
            "Gemini AI given examples\n",
            "Testing AI given grammar: palindromes\n",
            "  String 'racecar': ACCEPTED\n",
            "  String 'level': ACCEPTED\n",
            "  String 'abccba': ACCEPTED\n",
            "  String 'xyz': REJECTED\n",
            "  String '12321': ACCEPTED\n",
            "  String 'a': ACCEPTED\n",
            "  String 'abba': ACCEPTED\n",
            "\n",
            "Testing AI given grammar: equal_a_b\n",
            "  String 'aabb': ACCEPTED\n",
            "  String 'abab': ACCEPTED\n",
            "  String 'baab': ACCEPTED\n",
            "  String 'aaaabbbb': ACCEPTED\n",
            "  String 'ab': ACCEPTED\n",
            "  String 'aab': REJECTED\n",
            "  String '': ACCEPTED\n",
            "\n",
            "Testing AI given grammar: balanced_parentheses\n",
            "  String '()': ACCEPTED\n",
            "  String '()()': ACCEPTED\n",
            "  String '(()())': ACCEPTED\n",
            "  String '(())()': ACCEPTED\n",
            "  String '())': REJECTED\n",
            "  String '(()': REJECTED\n",
            "  String '(())(': REJECTED\n",
            "  String '': ACCEPTED\n",
            "\n",
            "Testing AI given grammar: a^n_b^n_c^n\n",
            "  String 'abc': ACCEPTED\n",
            "  String 'aabbcc': ACCEPTED\n",
            "  String 'aaabbbccc': ACCEPTED\n",
            "  String 'abbc': REJECTED\n",
            "  String 'abcc': REJECTED\n",
            "  String 'aabbc': REJECTED\n",
            "  String '': ACCEPTED\n",
            "\n"
          ]
        }
      ]
    },
    {
      "cell_type": "markdown",
      "source": [
        "##Generative OpenAI model GPT-4o mini Productions"
      ],
      "metadata": {
        "id": "tepKcI3_azuZ"
      }
    },
    {
      "cell_type": "code",
      "source": [
        "examples = {\n",
        "    \"palindromes\": [  # Strings that read the same forward and backward\n",
        "        \"racecar\",   # Valid: 'racecar' reads the same forward and backward.\n",
        "        \"level\",     # Valid: 'level' reads the same forward and backward.\n",
        "        \"hello\",     # Invalid: 'hello' doesn't read the same forward and backward.\n",
        "        \"a\",         # Valid: A single character is always a palindrome.\n",
        "        \"madam\",     # Valid: 'madam' reads the same forward and backward.\n",
        "        \"abcba\",     # Valid: 'abcba' reads the same forward and backward.\n",
        "        \"abccba\",    # Valid: 'abccba' reads the same forward and backward.\n",
        "        \"abca\",      # Invalid: 'abca' doesn't read the same forward and backward.\n",
        "    ],\n",
        "\n",
        "    \"equal_a_b\": [  # Strings with an equal number of 'a' and 'b' in any order\n",
        "        \"ab\",        # Valid: One 'a' and one 'b'.\n",
        "        \"aabb\",      # Valid: Two 'a's and two 'b's.\n",
        "        \"ba\",        # Valid: One 'b' and one 'a', order doesn't matter.\n",
        "        \"aabbb\",     # Invalid: Three 'b's and two 'a's (not equal number).\n",
        "        \"abab\",      # Valid: Two 'a's and two 'b's.\n",
        "        \"a\",         # Invalid: Only one 'a', no 'b'.\n",
        "        \"b\",         # Invalid: Only one 'b', no 'a'.\n",
        "        \"aaabbb\",    # Valid: Three 'a's and three 'b's.\n",
        "    ],\n",
        "\n",
        "    \"balanced_parentheses\": [  # Strings with properly nested and balanced parentheses\n",
        "        \"()\",         # Valid: Simple valid case with one pair.\n",
        "        \"(())\",       # Valid: Nested parentheses.\n",
        "        \"()()\",       # Valid: Multiple valid pairs.\n",
        "        \"(()())\",     # Valid: Nested pairs with valid structure.\n",
        "        \"(()\",        # Invalid: Open parentheses without a closing pair.\n",
        "        \"())\",        # Invalid: Extra closing parenthesis without matching open.\n",
        "        \"((())\",      # Invalid: Unmatched parentheses.\n",
        "        \"()\",         # Valid: A single pair of parentheses is valid.\n",
        "        \"((()))\",     # Valid: Properly nested and balanced parentheses.\n",
        "    ],\n",
        "\n",
        "    \"a^n_b^n_c^n\": [  # Strings with n 'a', followed by n 'b', followed by n 'c'\n",
        "        \"abc\",        # Valid: One 'a', one 'b', one 'c'.\n",
        "        \"aabbcc\",     # Valid: Two 'a's, two 'b's, two 'c's.\n",
        "        \"aaabbbccc\",  # Valid: Three 'a's, three 'b's, three 'c's.\n",
        "        \"abcabc\",     # Invalid: Two occurrences of the pattern, but not the correct structure.\n",
        "        \"aabbbc\",     # Invalid: The number of 'b's and 'c's doesn't match the number of 'a's.\n",
        "        \"aaaabbbbcccc\", # Valid: Four 'a's, four 'b's, four 'c's.\n",
        "        \"abcc\",       # Invalid: One 'a', one 'b', two 'c's, not the same number.\n",
        "        \"aaabbbccc\",  # Valid: Three 'a's, three 'b's, three 'c's.\n",
        "    ],\n",
        "}\n",
        "\n",
        "# Verify AI given Examples\n",
        "print(\"OpenAI model GPT-4o mini given examples\")\n",
        "for grammar_name, test_strings in examples.items():\n",
        "    print(f\"Testing AI ChatGPT given grammar: {grammar_name}\")\n",
        "    for string in test_strings:\n",
        "        result = validators[grammar_name](string)\n",
        "        status = \"ACCEPTED\" if result else \"REJECTED\"\n",
        "        print(f\"  String '{string}': {status}\")\n",
        "    print()"
      ],
      "metadata": {
        "colab": {
          "base_uri": "https://localhost:8080/"
        },
        "id": "-nkQvEBTayys",
        "outputId": "94a3d14d-fbb3-4ab2-b402-2417282e8015"
      },
      "execution_count": null,
      "outputs": [
        {
          "output_type": "stream",
          "name": "stdout",
          "text": [
            "OpenAI model GPT-4o mini given examples\n",
            "Testing AI ChatGPT given grammar: palindromes\n",
            "  String 'racecar': ACCEPTED\n",
            "  String 'level': ACCEPTED\n",
            "  String 'hello': REJECTED\n",
            "  String 'a': ACCEPTED\n",
            "  String 'madam': ACCEPTED\n",
            "  String 'abcba': ACCEPTED\n",
            "  String 'abccba': ACCEPTED\n",
            "  String 'abca': REJECTED\n",
            "\n",
            "Testing AI ChatGPT given grammar: equal_a_b\n",
            "  String 'ab': ACCEPTED\n",
            "  String 'aabb': ACCEPTED\n",
            "  String 'ba': ACCEPTED\n",
            "  String 'aabbb': REJECTED\n",
            "  String 'abab': ACCEPTED\n",
            "  String 'a': REJECTED\n",
            "  String 'b': REJECTED\n",
            "  String 'aaabbb': ACCEPTED\n",
            "\n",
            "Testing AI ChatGPT given grammar: balanced_parentheses\n",
            "  String '()': ACCEPTED\n",
            "  String '(())': ACCEPTED\n",
            "  String '()()': ACCEPTED\n",
            "  String '(()())': ACCEPTED\n",
            "  String '(()': REJECTED\n",
            "  String '())': REJECTED\n",
            "  String '((())': REJECTED\n",
            "  String '()': ACCEPTED\n",
            "  String '((()))': ACCEPTED\n",
            "\n",
            "Testing AI ChatGPT given grammar: a^n_b^n_c^n\n",
            "  String 'abc': ACCEPTED\n",
            "  String 'aabbcc': ACCEPTED\n",
            "  String 'aaabbbccc': ACCEPTED\n",
            "  String 'abcabc': REJECTED\n",
            "  String 'aabbbc': REJECTED\n",
            "  String 'aaaabbbbcccc': ACCEPTED\n",
            "  String 'abcc': REJECTED\n",
            "  String 'aaabbbccc': ACCEPTED\n",
            "\n"
          ]
        }
      ]
    },
    {
      "cell_type": "code",
      "source": [
        "# 1. Palindromes\n",
        "palindrome_rules = {\n",
        "    \"S\": [\"\", \"aSa\", \"bSb\", \"cSc\"]  # Base cases and recursive symmetry\n",
        "}\n",
        "\n",
        "# 2. Strings with Equal Numbers of 'a' and 'b'\n",
        "equal_a_b_rules = {\n",
        "    \"S\": [\"\", \"aSb\", \"bSa\", \"SS\"]  # Balancing and concatenation\n",
        "}\n",
        "\n",
        "# 3. Balanced Parentheses\n",
        "balanced_parentheses_rules = {\n",
        "    \"S\": [\"\", \"(S)\", \"SS\"]  # Matching parentheses and concatenation\n",
        "}\n",
        "\n",
        "# 4. Strings of Form 'a^n b^n c^n'\n",
        "an_bn_cn_rules = {\n",
        "    \"S\": [\"\", \"aSbSc\"]  # Equal numbers of 'a', 'b', and 'c' in sequence\n",
        "}\n",
        "\n",
        "# Example of how to print the rules\n",
        "def print_rules(grammar):\n",
        "    for non_terminal, productions in grammar.items():\n",
        "        print(f\"{non_terminal} -> {' | '.join(productions)}\")\n",
        "\n",
        "# Print all grammars\n",
        "print(\"Palindrome Grammar:\")\n",
        "print_rules(palindrome_rules)\n",
        "print(\"\\nEqual 'a' and 'b' Grammar:\")\n",
        "print_rules(equal_a_b_rules)\n",
        "print(\"\\nBalanced Parentheses Grammar:\")\n",
        "print_rules(balanced_parentheses_rules)\n",
        "print(\"\\n'a^n b^n c^n' Grammar:\")\n",
        "print_rules(an_bn_cn_rules)\n"
      ],
      "metadata": {
        "colab": {
          "base_uri": "https://localhost:8080/"
        },
        "id": "PbDyraFLZWrs",
        "outputId": "67ec146c-9ba3-43af-e076-d481a90f6c52"
      },
      "execution_count": 1,
      "outputs": [
        {
          "output_type": "stream",
          "name": "stdout",
          "text": [
            "Palindrome Grammar:\n",
            "S ->  | aSa | bSb | cSc\n",
            "\n",
            "Equal 'a' and 'b' Grammar:\n",
            "S ->  | aSb | bSa | SS\n",
            "\n",
            "Balanced Parentheses Grammar:\n",
            "S ->  | (S) | SS\n",
            "\n",
            "'a^n b^n c^n' Grammar:\n",
            "S ->  | aSbSc\n"
          ]
        }
      ]
    },
    {
      "cell_type": "markdown",
      "source": [
        "#Arithmetic Expressions"
      ],
      "metadata": {
        "id": "QGCB_n40ysqA"
      }
    },
    {
      "source": [
        "from pyparsing import Word, alphas, nums, oneOf, Combine, Group, Optional, Literal, Forward, ParseException\n",
        "\n",
        "# Define grammar rules\n",
        "identifier = Word(alphas + \"_\", alphas + nums + \"_\")  # Identifiers start with a letter or underscore\n",
        "digit = Word(nums)  # Digits\n",
        "number = Combine(Optional(\"-\") + digit)  # A number, optionally negative\n",
        "plus, minus, mul, div = map(Literal, \"+-*/\")  # Arithmetic operators\n",
        "lparen, rparen = map(Literal, \"()\")  # Parentheses\n",
        "\n",
        "# Forward declarations for recursive grammar\n",
        "expression = Forward() # Changed variable name from 'expr' to 'expression'\n",
        "term = Forward()\n",
        "factor = Forward()\n",
        "# Define factor → ( expr ) | number | identifier\n",
        "factor <<= (lparen + expression + rparen) | number | identifier\n",
        "# Define term → term * factor | term / factor | factor\n",
        "term <<= factor + Optional((mul | div) + term)\n",
        "# Define expr → expr + term | expr - term | term\n",
        "expression <<= term + Optional((plus | minus) + expression)\n",
        "\n",
        "# Validation function\n",
        "def validate_arithmetic_expression(string):\n",
        "    try:\n",
        "        # Attempt to parse the string with the arithmetic expression grammar\n",
        "        expression.parseString(string, parseAll=True) # Use 'expression' here\n",
        "        return True  # If parsing succeeds, the string is valid\n",
        "    except ParseException as e:\n",
        "        return False  # If parsing fails, the string is invalid"
      ],
      "cell_type": "code",
      "metadata": {
        "id": "B4sjVbgY5cgg"
      },
      "execution_count": 3,
      "outputs": []
    },
    {
      "cell_type": "markdown",
      "source": [
        "##Arithmetic Expressions Productions\n"
      ],
      "metadata": {
        "id": "OjtFEeCTzJmp"
      }
    },
    {
      "cell_type": "code",
      "source": [
        "examples = [\n",
        "    \"x + 5\",\n",
        "    \"(x + 3\",\n",
        "]\n",
        "\n",
        "# Validate examples\n",
        "results = {expr: validate_arithmetic_expression(expr) for expr in examples}\n",
        "\n",
        "# Display results\n",
        "print(\"Examples\")\n",
        "for expr, result in results.items():\n",
        "    print(f\"'{expr}': {'Valid' if result else 'Invalid'}\")"
      ],
      "metadata": {
        "colab": {
          "base_uri": "https://localhost:8080/"
        },
        "id": "Dh_CG9Is5xNq",
        "outputId": "b86d1dc9-1f87-4857-cd5b-d05eda14d187"
      },
      "execution_count": 4,
      "outputs": [
        {
          "output_type": "stream",
          "name": "stdout",
          "text": [
            "Examples\n",
            "'x + 5': Valid\n",
            "'(x + 3': Invalid\n"
          ]
        }
      ]
    },
    {
      "cell_type": "markdown",
      "source": [
        "##OpenAI model GPT-4o mini Productions"
      ],
      "metadata": {
        "id": "xOPsWQv5zXje"
      }
    },
    {
      "cell_type": "code",
      "source": [
        "examples = [\n",
        "    \"3 * (a - b)\",\n",
        "    \"y / (2 + z)\",\n",
        "    \"(x + y) * (3 / 2)\",\n",
        "    \"42\",\n",
        "    \"x + 5 * 3\",\n",
        "    \"((a + b) / c) - d\",\n",
        "    \"+ 5\",\n",
        "    \"3 ** 2\",\n",
        "    \"x / y -\",\n",
        "    \"2 (3 + 4)\",\n",
        "]\n",
        "\n",
        "# Validate examples\n",
        "results = {expr: validate_arithmetic_expression(expr) for expr in examples}\n",
        "\n",
        "# Display results\n",
        "print(\"OpenAI model GPT-4o mini given examples\")\n",
        "for expr, result in results.items():\n",
        "    print(f\"'{expr}': {'Valid' if result else 'Invalid'}\")"
      ],
      "metadata": {
        "colab": {
          "base_uri": "https://localhost:8080/"
        },
        "id": "83RagEXr5z01",
        "outputId": "c48aaa53-e8a1-483d-e2c3-0f0711007e6e"
      },
      "execution_count": 5,
      "outputs": [
        {
          "output_type": "stream",
          "name": "stdout",
          "text": [
            "OpenAI model GPT-4o mini given examples\n",
            "'3 * (a - b)': Valid\n",
            "'y / (2 + z)': Valid\n",
            "'(x + y) * (3 / 2)': Valid\n",
            "'42': Valid\n",
            "'x + 5 * 3': Valid\n",
            "'((a + b) / c) - d': Valid\n",
            "'+ 5': Invalid\n",
            "'3 ** 2': Invalid\n",
            "'x / y -': Invalid\n",
            "'2 (3 + 4)': Invalid\n"
          ]
        }
      ]
    }
  ]
}